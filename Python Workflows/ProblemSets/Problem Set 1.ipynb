{
 "cells": [
  {
   "cell_type": "markdown",
   "metadata": {},
   "source": [
    "# Problem Set 1"
   ]
  },
  {
   "cell_type": "markdown",
   "metadata": {},
   "source": [
    "## Problem 1:  Unit conversions\n",
    "    1. Convert 1,520 Mmbbl to Gbbl\n",
    "    2. Convert 0.025 Tcf to Mcf\n",
    "    3. Convert 540 Mmcfto BOE (5,658.53 cubic feet = 1 barrel)\n",
    "    4. Convert 689 Mbbl to Mmcf "
   ]
  },
  {
   "cell_type": "code",
   "execution_count": 1,
   "metadata": {},
   "outputs": [
    {
     "data": {
      "text/plain": [
       "1.52"
      ]
     },
     "execution_count": 1,
     "metadata": {},
     "output_type": "execute_result"
    }
   ],
   "source": [
    "a = 1_520#Mmbbl\n",
    "converted_a = a / 1_000\n",
    "converted_a"
   ]
  },
  {
   "cell_type": "code",
   "execution_count": 2,
   "metadata": {},
   "outputs": [
    {
     "data": {
      "text/plain": [
       "25000000.0"
      ]
     },
     "execution_count": 2,
     "metadata": {},
     "output_type": "execute_result"
    }
   ],
   "source": [
    "b = 0.025#Tcf\n",
    "converted_b = b * 1_000_000_000\n",
    "converted_b"
   ]
  },
  {
   "cell_type": "code",
   "execution_count": 3,
   "metadata": {},
   "outputs": [
    {
     "data": {
      "text/plain": [
       "0.09543114554486766"
      ]
     },
     "execution_count": 3,
     "metadata": {},
     "output_type": "execute_result"
    }
   ],
   "source": [
    "c = 540 #Mmcf\n",
    "conversion_ratio = 1 / 5_658.53\n",
    "converted_c = c * conversion_ratio\n",
    "converted_c"
   ]
  },
  {
   "cell_type": "code",
   "execution_count": 4,
   "metadata": {},
   "outputs": [
    {
     "data": {
      "text/plain": [
       "3898727.17"
      ]
     },
     "execution_count": 4,
     "metadata": {},
     "output_type": "execute_result"
    }
   ],
   "source": [
    "d = 689 # Mbbl\n",
    "converted_d = d / conversion_ratio\n",
    "converted_d"
   ]
  },
  {
   "cell_type": "markdown",
   "metadata": {},
   "source": [
    "## Problem 2: Build a dictionary of formations with properties"
   ]
  },
  {
   "cell_type": "code",
   "execution_count": 5,
   "metadata": {},
   "outputs": [],
   "source": [
    "rocks = [{\n",
    "    \"Name\": \"Crystal City - Eagle Pass\" ,\n",
    "    \"Period\": \"Tertiary\",\n",
    "    \"Epoch\": \"Eocene\",\n",
    "    \"Rock Type\": \"Clay and Sandstone\",\n",
    "    \"Thickness\": 800,\n",
    "},\n",
    "{\n",
    "    \"Name\": \"Beeville - Bay city\",\n",
    "    \"Period\": \"Quaternary\",\n",
    "    \"Epoch\": \"Pleistocene\",\n",
    "    \"Rock Type\": \"Clay, silt, sand and gravel\" ,\n",
    "    \"Thickness\": 100,\n",
    "},{\n",
    "    \"Name\": \"Fort Stockton\",\n",
    "    \"Period\": \"Pennslyvanian\",\n",
    "    \"Epoch\": \"Morrow\",\n",
    "    \"Rock Type\": \"Shand stone and shale\",\n",
    "    \"Thickness\": 7000,\n",
    "},{\n",
    "    \"Name\": \"San Angelo\",\n",
    "    \"Period\": \"Cretaceous\",\n",
    "    \"Epoch\": \"Comanchean\",\n",
    "    \"Rock Type\": \"sandstone and conglomerate\",\n",
    "    \"Thickness\": 100,\n",
    "},{\n",
    "    \"Name\": \"Dallas\",\n",
    "    \"Period\": \"Quaternary\",\n",
    "    \"Epoch\": \"Pleistocene\",\n",
    "    \"Rock Type\": \"Gravel, sand and silt\",\n",
    "    \"Thickness\": 30,\n",
    "},\n",
    "]"
   ]
  },
  {
   "cell_type": "markdown",
   "metadata": {},
   "source": [
    "## Problem 3: Individual Lists"
   ]
  },
  {
   "cell_type": "code",
   "execution_count": 6,
   "metadata": {},
   "outputs": [],
   "source": [
    "names = []\n",
    "periods = []\n",
    "epochs = []\n",
    "rock_types = []\n",
    "thickness = []\n",
    "\n",
    "for rock in rocks:\n",
    "    names.append(rock[\"Name\"])\n",
    "    periods.append(rock[\"Period\"])\n",
    "    epochs.append(rock[\"Epoch\"])\n",
    "    rock_types.append(rock[\"Rock Type\"])\n",
    "    thickness.append(rock[\"Thickness\"])\n"
   ]
  },
  {
   "cell_type": "markdown",
   "metadata": {},
   "source": [
    "## Problem 4: Thickness slicing"
   ]
  },
  {
   "cell_type": "code",
   "execution_count": 7,
   "metadata": {},
   "outputs": [],
   "source": [
    "def intervals(thickness):\n",
    "    interval_size = thickness // 10\n",
    "    return [interval_size * i for i in range(1, 11)]"
   ]
  },
  {
   "cell_type": "code",
   "execution_count": 8,
   "metadata": {},
   "outputs": [
    {
     "data": {
      "text/plain": [
       "[[80, 160, 240, 320, 400, 480, 560, 640, 720, 800],\n",
       " [10, 20, 30, 40, 50, 60, 70, 80, 90, 100],\n",
       " [700, 1400, 2100, 2800, 3500, 4200, 4900, 5600, 6300, 7000],\n",
       " [10, 20, 30, 40, 50, 60, 70, 80, 90, 100],\n",
       " [3, 6, 9, 12, 15, 18, 21, 24, 27, 30]]"
      ]
     },
     "execution_count": 8,
     "metadata": {},
     "output_type": "execute_result"
    }
   ],
   "source": [
    "list(map(intervals, thickness))"
   ]
  }
 ],
 "metadata": {
  "kernelspec": {
   "display_name": "Python 3",
   "language": "python",
   "name": "python3"
  },
  "language_info": {
   "codemirror_mode": {
    "name": "ipython",
    "version": 3
   },
   "file_extension": ".py",
   "mimetype": "text/x-python",
   "name": "python",
   "nbconvert_exporter": "python",
   "pygments_lexer": "ipython3",
   "version": "3.8.5"
  }
 },
 "nbformat": 4,
 "nbformat_minor": 4
}
