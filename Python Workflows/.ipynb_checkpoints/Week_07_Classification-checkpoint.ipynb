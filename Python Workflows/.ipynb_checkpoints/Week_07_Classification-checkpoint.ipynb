{
 "cells": [
  {
   "cell_type": "markdown",
   "metadata": {},
   "source": [
    "<p align=\"center\">\n",
    "    <img src=\"https://github.com/jessepisel/energy_analytics/blob/master/EA_logo.jpg?raw=true\" width=\"220\" height=\"240\" />\n",
    "\n",
    "</p>\n",
    "\n",
    "# Decision Tree Classification\n",
    "\n",
    "## Freshman Research Initiative Energy Analytics CS 309\n",
    "\n",
    "#### Jesse Pisel, Assistant Professor of Practice, University of Texas at Austin\n",
    "**[Twitter](http://twitter.com/geologyjesse)** | **[GitHub](https://github.com/jessepisel)** | **[GoogleScholar](https://scholar.google.com/citations?user=Z4JzYgIAAAAJ&hl=en&oi=ao)** | **[LinkedIn](https://www.linkedin.com/in/jesse-pisel-70519430/)**"
   ]
  },
  {
   "cell_type": "code",
   "execution_count": 2,
   "metadata": {},
   "outputs": [
    {
     "name": "stdout",
     "output_type": "stream",
     "text": [
      "Collecting scooby\n",
      "  Downloading scooby-0.5.6-py3-none-any.whl (13 kB)\n",
      "Installing collected packages: scooby\n",
      "Successfully installed scooby-0.5.6\n"
     ]
    }
   ],
   "source": [
    "!pip install scooby"
   ]
  },
  {
   "cell_type": "code",
   "execution_count": 3,
   "metadata": {},
   "outputs": [],
   "source": [
    "import pandas as pd\n",
    "import matplotlib.pyplot as plt\n",
    "import numpy as np\n",
    "import scooby\n",
    "import seaborn as sns; sns.set() #make it pretty\n",
    "import sklearn #for label encoding later, now just check the version\n",
    "%matplotlib inline"
   ]
  },
  {
   "cell_type": "markdown",
   "metadata": {},
   "source": [
    "Let's import `pandas` and `numpy` for data structures, and `seaborn` and `matplotlib` for viz. We also want to import `scooby` so we can see what version of `sklearn` and `seaborn` we have installed"
   ]
  },
  {
   "cell_type": "markdown",
   "metadata": {},
   "source": [
    "Run a `scooby` report to see what versions we have installed"
   ]
  },
  {
   "cell_type": "code",
   "execution_count": 4,
   "metadata": {},
   "outputs": [
    {
     "data": {
      "text/html": [
       "<table style='border: 3px solid #ddd;'>\n",
       "  <tr>\n",
       "     <td style='text-align: center; font-weight: bold; font-size: 1.2em; border: 2px solid #fff;' colspan='6'>Thu Oct 08 15:48:49 2020 CDT</td>\n",
       "  </tr>\n",
       "  <tr>\n",
       "    <td style='text-align: right; background-color: #ccc; border: 2px solid #fff;'>OS</td>\n",
       "    <td style='text-align: left; border: 2px solid #fff;'>Linux</td>\n",
       "    <td style='text-align: right; background-color: #ccc; border: 2px solid #fff;'>CPU(s)</td>\n",
       "    <td style='text-align: left; border: 2px solid #fff;'>12</td>\n",
       "    <td style='text-align: right; background-color: #ccc; border: 2px solid #fff;'>Machine</td>\n",
       "    <td style='text-align: left; border: 2px solid #fff;'>x86_64</td>\n",
       "  </tr>\n",
       "  <tr>\n",
       "    <td style='text-align: right; background-color: #ccc; border: 2px solid #fff;'>Architecture</td>\n",
       "    <td style='text-align: left; border: 2px solid #fff;'>64bit</td>\n",
       "    <td style='text-align: right; background-color: #ccc; border: 2px solid #fff;'>RAM</td>\n",
       "    <td style='text-align: left; border: 2px solid #fff;'>15.6 GB</td>\n",
       "    <td style='text-align: right; background-color: #ccc; border: 2px solid #fff;'>Environment</td>\n",
       "    <td style='text-align: left; border: 2px solid #fff;'>Jupyter</td>\n",
       "  </tr>\n",
       "  <tr>\n",
       "     <td style='text-align: center; border: 2px solid #fff;' colspan='6'>Python 3.8.5 | packaged by conda-forge | (default, Sep 24 2020, 16:55:52) \n",
       "[GCC 7.5.0]</td>\n",
       "  </tr>\n",
       "  <tr>\n",
       "    <td style='text-align: right; background-color: #ccc; border: 2px solid #fff;'>sklearn</td>\n",
       "    <td style='text-align: left; border: 2px solid #fff;'>0.23.2</td>\n",
       "    <td style='text-align: right; background-color: #ccc; border: 2px solid #fff;'>seaborn</td>\n",
       "    <td style='text-align: left; border: 2px solid #fff;'>0.11.0</td>\n",
       "    <td style='text-align: right; background-color: #ccc; border: 2px solid #fff;'>numpy</td>\n",
       "    <td style='text-align: left; border: 2px solid #fff;'>1.18.2</td>\n",
       "  </tr>\n",
       "  <tr>\n",
       "    <td style='text-align: right; background-color: #ccc; border: 2px solid #fff;'>scipy</td>\n",
       "    <td style='text-align: left; border: 2px solid #fff;'>1.5.2</td>\n",
       "    <td style='text-align: right; background-color: #ccc; border: 2px solid #fff;'>IPython</td>\n",
       "    <td style='text-align: left; border: 2px solid #fff;'>7.16.1</td>\n",
       "    <td style='text-align: right; background-color: #ccc; border: 2px solid #fff;'>matplotlib</td>\n",
       "    <td style='text-align: left; border: 2px solid #fff;'>3.2.2</td>\n",
       "  </tr>\n",
       "  <tr>\n",
       "    <td style='text-align: right; background-color: #ccc; border: 2px solid #fff;'>scooby</td>\n",
       "    <td style='text-align: left; border: 2px solid #fff;'>0.5.6</td>\n",
       "    <td style= border: 2px solid #fff;'></td>\n",
       "    <td style= border: 2px solid #fff;'></td>\n",
       "    <td style= border: 2px solid #fff;'></td>\n",
       "    <td style= border: 2px solid #fff;'></td>\n",
       "  </tr>\n",
       "  <tr>\n",
       "     <td style='text-align: center; background-color: #ddd;border: 2px solid #fff;' colspan='6'>Intel(R) Math Kernel Library Version 2020.0.2 Product Build 20200624 for Intel(R) 64 architecture applications</td>\n",
       "  </tr>\n",
       "</table>"
      ],
      "text/plain": [
       "\n",
       "--------------------------------------------------------------------------------\n",
       "  Date: Thu Oct 08 15:48:49 2020 CDT\n",
       "\n",
       "                OS : Linux\n",
       "            CPU(s) : 12\n",
       "           Machine : x86_64\n",
       "      Architecture : 64bit\n",
       "               RAM : 15.6 GB\n",
       "       Environment : Jupyter\n",
       "\n",
       "  Python 3.8.5 | packaged by conda-forge | (default, Sep 24 2020, 16:55:52)\n",
       "  [GCC 7.5.0]\n",
       "\n",
       "           sklearn : 0.23.2\n",
       "           seaborn : 0.11.0\n",
       "             numpy : 1.18.2\n",
       "             scipy : 1.5.2\n",
       "           IPython : 7.16.1\n",
       "        matplotlib : 3.2.2\n",
       "            scooby : 0.5.6\n",
       "\n",
       "  Intel(R) Math Kernel Library Version 2020.0.2 Product Build 20200624 for\n",
       "  Intel(R) 64 architecture applications\n",
       "--------------------------------------------------------------------------------"
      ]
     },
     "execution_count": 4,
     "metadata": {},
     "output_type": "execute_result"
    }
   ],
   "source": [
    "scooby.Report(additional=[sklearn, sns])"
   ]
  },
  {
   "cell_type": "markdown",
   "metadata": {},
   "source": [
    "Read in the data with `pandas` and take a look at how it is structured"
   ]
  },
  {
   "cell_type": "code",
   "execution_count": 5,
   "metadata": {},
   "outputs": [
    {
     "data": {
      "text/html": [
       "<div>\n",
       "<style scoped>\n",
       "    .dataframe tbody tr th:only-of-type {\n",
       "        vertical-align: middle;\n",
       "    }\n",
       "\n",
       "    .dataframe tbody tr th {\n",
       "        vertical-align: top;\n",
       "    }\n",
       "\n",
       "    .dataframe thead th {\n",
       "        text-align: right;\n",
       "    }\n",
       "</style>\n",
       "<table border=\"1\" class=\"dataframe\">\n",
       "  <thead>\n",
       "    <tr style=\"text-align: right;\">\n",
       "      <th></th>\n",
       "      <th>DEPT</th>\n",
       "      <th>AHT10</th>\n",
       "      <th>AHT20</th>\n",
       "      <th>AHT30</th>\n",
       "      <th>AHT60</th>\n",
       "      <th>AHT90</th>\n",
       "      <th>AHTCO60</th>\n",
       "      <th>AHTCO90</th>\n",
       "      <th>DPHZ</th>\n",
       "      <th>DSOZ</th>\n",
       "      <th>...</th>\n",
       "      <th>ITT</th>\n",
       "      <th>NPOR</th>\n",
       "      <th>PEFZ</th>\n",
       "      <th>RSOZ</th>\n",
       "      <th>RXOZ</th>\n",
       "      <th>SDEV</th>\n",
       "      <th>SP</th>\n",
       "      <th>SPHI</th>\n",
       "      <th>RHOZ</th>\n",
       "      <th>TOP</th>\n",
       "    </tr>\n",
       "  </thead>\n",
       "  <tbody>\n",
       "    <tr>\n",
       "      <th>5466</th>\n",
       "      <td>1914.0</td>\n",
       "      <td>1.6167</td>\n",
       "      <td>3.0335</td>\n",
       "      <td>7.5475</td>\n",
       "      <td>8.5244</td>\n",
       "      <td>9.1691</td>\n",
       "      <td>117.3103</td>\n",
       "      <td>109.0619</td>\n",
       "      <td>-0.4129</td>\n",
       "      <td>0.5048</td>\n",
       "      <td>...</td>\n",
       "      <td>0.2649</td>\n",
       "      <td>0.4847</td>\n",
       "      <td>10.0000</td>\n",
       "      <td>0.0348</td>\n",
       "      <td>2.9599</td>\n",
       "      <td>1.0538</td>\n",
       "      <td>1.6250</td>\n",
       "      <td>0.7009</td>\n",
       "      <td>3.3313</td>\n",
       "      <td>MATANUSKA</td>\n",
       "    </tr>\n",
       "    <tr>\n",
       "      <th>5467</th>\n",
       "      <td>1913.5</td>\n",
       "      <td>1.6164</td>\n",
       "      <td>3.0324</td>\n",
       "      <td>7.5492</td>\n",
       "      <td>8.5195</td>\n",
       "      <td>9.1830</td>\n",
       "      <td>117.3782</td>\n",
       "      <td>108.8963</td>\n",
       "      <td>-0.6763</td>\n",
       "      <td>0.3208</td>\n",
       "      <td>...</td>\n",
       "      <td>0.2650</td>\n",
       "      <td>0.4760</td>\n",
       "      <td>10.0000</td>\n",
       "      <td>0.0000</td>\n",
       "      <td>1.7452</td>\n",
       "      <td>1.0770</td>\n",
       "      <td>10.9375</td>\n",
       "      <td>0.6161</td>\n",
       "      <td>3.7659</td>\n",
       "      <td>MATANUSKA</td>\n",
       "    </tr>\n",
       "    <tr>\n",
       "      <th>5468</th>\n",
       "      <td>1913.0</td>\n",
       "      <td>1.6163</td>\n",
       "      <td>3.0317</td>\n",
       "      <td>7.5488</td>\n",
       "      <td>8.5243</td>\n",
       "      <td>9.1852</td>\n",
       "      <td>117.3116</td>\n",
       "      <td>108.8711</td>\n",
       "      <td>-0.9772</td>\n",
       "      <td>0.2371</td>\n",
       "      <td>...</td>\n",
       "      <td>0.2651</td>\n",
       "      <td>0.4754</td>\n",
       "      <td>10.0000</td>\n",
       "      <td>0.0000</td>\n",
       "      <td>0.3407</td>\n",
       "      <td>1.0509</td>\n",
       "      <td>43.8125</td>\n",
       "      <td>0.5991</td>\n",
       "      <td>4.2624</td>\n",
       "      <td>MATANUSKA</td>\n",
       "    </tr>\n",
       "    <tr>\n",
       "      <th>5469</th>\n",
       "      <td>1912.5</td>\n",
       "      <td>1.6162</td>\n",
       "      <td>3.0311</td>\n",
       "      <td>7.5493</td>\n",
       "      <td>8.5248</td>\n",
       "      <td>9.1936</td>\n",
       "      <td>117.3051</td>\n",
       "      <td>108.7711</td>\n",
       "      <td>-1.1748</td>\n",
       "      <td>0.2120</td>\n",
       "      <td>...</td>\n",
       "      <td>0.2652</td>\n",
       "      <td>0.4853</td>\n",
       "      <td>10.0000</td>\n",
       "      <td>0.0000</td>\n",
       "      <td>0.2168</td>\n",
       "      <td>0.8236</td>\n",
       "      <td>79.5000</td>\n",
       "      <td>0.6521</td>\n",
       "      <td>4.5884</td>\n",
       "      <td>MATANUSKA</td>\n",
       "    </tr>\n",
       "    <tr>\n",
       "      <th>5470</th>\n",
       "      <td>1912.0</td>\n",
       "      <td>1.6161</td>\n",
       "      <td>3.0305</td>\n",
       "      <td>7.5496</td>\n",
       "      <td>8.5289</td>\n",
       "      <td>9.1974</td>\n",
       "      <td>117.2483</td>\n",
       "      <td>108.7263</td>\n",
       "      <td>-1.1654</td>\n",
       "      <td>0.2080</td>\n",
       "      <td>...</td>\n",
       "      <td>0.2652</td>\n",
       "      <td>0.4471</td>\n",
       "      <td>9.9845</td>\n",
       "      <td>0.0000</td>\n",
       "      <td>0.1797</td>\n",
       "      <td>0.7958</td>\n",
       "      <td>108.5000</td>\n",
       "      <td>0.6699</td>\n",
       "      <td>4.5729</td>\n",
       "      <td>MATANUSKA</td>\n",
       "    </tr>\n",
       "  </tbody>\n",
       "</table>\n",
       "<p>5 rows × 28 columns</p>\n",
       "</div>"
      ],
      "text/plain": [
       "        DEPT   AHT10   AHT20   AHT30   AHT60   AHT90   AHTCO60   AHTCO90  \\\n",
       "5466  1914.0  1.6167  3.0335  7.5475  8.5244  9.1691  117.3103  109.0619   \n",
       "5467  1913.5  1.6164  3.0324  7.5492  8.5195  9.1830  117.3782  108.8963   \n",
       "5468  1913.0  1.6163  3.0317  7.5488  8.5243  9.1852  117.3116  108.8711   \n",
       "5469  1912.5  1.6162  3.0311  7.5493  8.5248  9.1936  117.3051  108.7711   \n",
       "5470  1912.0  1.6161  3.0305  7.5496  8.5289  9.1974  117.2483  108.7263   \n",
       "\n",
       "        DPHZ    DSOZ  ...     ITT    NPOR     PEFZ    RSOZ    RXOZ    SDEV  \\\n",
       "5466 -0.4129  0.5048  ...  0.2649  0.4847  10.0000  0.0348  2.9599  1.0538   \n",
       "5467 -0.6763  0.3208  ...  0.2650  0.4760  10.0000  0.0000  1.7452  1.0770   \n",
       "5468 -0.9772  0.2371  ...  0.2651  0.4754  10.0000  0.0000  0.3407  1.0509   \n",
       "5469 -1.1748  0.2120  ...  0.2652  0.4853  10.0000  0.0000  0.2168  0.8236   \n",
       "5470 -1.1654  0.2080  ...  0.2652  0.4471   9.9845  0.0000  0.1797  0.7958   \n",
       "\n",
       "            SP    SPHI    RHOZ        TOP  \n",
       "5466    1.6250  0.7009  3.3313  MATANUSKA  \n",
       "5467   10.9375  0.6161  3.7659  MATANUSKA  \n",
       "5468   43.8125  0.5991  4.2624  MATANUSKA  \n",
       "5469   79.5000  0.6521  4.5884  MATANUSKA  \n",
       "5470  108.5000  0.6699  4.5729  MATANUSKA  \n",
       "\n",
       "[5 rows x 28 columns]"
      ]
     },
     "execution_count": 5,
     "metadata": {},
     "output_type": "execute_result"
    }
   ],
   "source": [
    "data = pd.read_csv(r'well_data.csv') #read it in\n",
    "data.tail()"
   ]
  },
  {
   "cell_type": "markdown",
   "metadata": {},
   "source": [
    "We are interested in the `TOP` categorical variable, what does it contain?"
   ]
  },
  {
   "cell_type": "code",
   "execution_count": 6,
   "metadata": {},
   "outputs": [
    {
     "data": {
      "text/plain": [
       "array(['NELCHINA', 'MATANUSKA'], dtype=object)"
      ]
     },
     "execution_count": 6,
     "metadata": {},
     "output_type": "execute_result"
    }
   ],
   "source": [
    "data.TOP.unique()"
   ]
  },
  {
   "cell_type": "markdown",
   "metadata": {},
   "source": [
    "We have to encode these strings to numerical values using a `LabelEncoder`"
   ]
  },
  {
   "cell_type": "code",
   "execution_count": 7,
   "metadata": {},
   "outputs": [],
   "source": [
    "from sklearn import preprocessing #for label encoding\n",
    "#label encode our formation data\n",
    "le = preprocessing.LabelEncoder()\n",
    "top_names = data.TOP\n",
    "le.fit(data.TOP)\n",
    "tops = le.transform(data.TOP)"
   ]
  },
  {
   "cell_type": "markdown",
   "metadata": {},
   "source": [
    "Let's see what our new encoded `tops` variable looks like"
   ]
  },
  {
   "cell_type": "code",
   "execution_count": 8,
   "metadata": {},
   "outputs": [
    {
     "data": {
      "text/plain": [
       "array([1, 1, 1, ..., 0, 0, 0])"
      ]
     },
     "execution_count": 8,
     "metadata": {},
     "output_type": "execute_result"
    }
   ],
   "source": [
    "tops"
   ]
  },
  {
   "cell_type": "code",
   "execution_count": 9,
   "metadata": {},
   "outputs": [],
   "source": [
    "#define our target variable and predictor features\n",
    "y = tops\n",
    "X = data.drop('TOP', axis=1)"
   ]
  },
  {
   "cell_type": "markdown",
   "metadata": {},
   "source": [
    "Let's split into train and test samples"
   ]
  },
  {
   "cell_type": "code",
   "execution_count": 73,
   "metadata": {},
   "outputs": [],
   "source": [
    "from sklearn.model_selection import train_test_split\n",
    "X_train, X_test, y_train, y_test = train_test_split(X,y, test_size=0.9, random_state=86)"
   ]
  },
  {
   "cell_type": "code",
   "execution_count": 74,
   "metadata": {},
   "outputs": [],
   "source": [
    "#import our classifie\n",
    "from sklearn.tree import DecisionTreeClassifier"
   ]
  },
  {
   "cell_type": "markdown",
   "metadata": {},
   "source": [
    "Next, we need to train our classifier"
   ]
  },
  {
   "cell_type": "code",
   "execution_count": 75,
   "metadata": {},
   "outputs": [
    {
     "data": {
      "text/plain": [
       "DecisionTreeClassifier(random_state=432432432, splitter='random')"
      ]
     },
     "execution_count": 75,
     "metadata": {},
     "output_type": "execute_result"
    }
   ],
   "source": [
    "# clf = DecisionTreeClassifier(splitter=\"random\", random_state=432432432) - good results\n",
    "clf = DecisionTreeClassifier(random_state=86)\n",
    "clf.fit(X_train,y_train)"
   ]
  },
  {
   "cell_type": "code",
   "execution_count": 76,
   "metadata": {},
   "outputs": [
    {
     "data": {
      "text/plain": [
       "0.9853777416734363"
      ]
     },
     "execution_count": 76,
     "metadata": {},
     "output_type": "execute_result"
    }
   ],
   "source": [
    "#score our classifier\n",
    "clf.score(X_test, y_test)"
   ]
  },
  {
   "cell_type": "markdown",
   "metadata": {},
   "source": [
    "Now we want to visualize our tree so we export it out. We can visualize at the url below by opening the output file in a text editor and pasting it into the webapp\n"
   ]
  },
  {
   "cell_type": "code",
   "execution_count": 77,
   "metadata": {},
   "outputs": [],
   "source": [
    "from sklearn import tree\n",
    "dot_data = tree.export_graphviz(clf, out_file='graph', feature_names=X.columns, filled=True)\n",
    "# http://webgraphviz.com/ from file in text editor"
   ]
  },
  {
   "cell_type": "code",
   "execution_count": 78,
   "metadata": {},
   "outputs": [
    {
     "data": {
      "text/plain": [
       "[Text(172.63125, 203.85, 'DEPT <= 4470.369\\ngini = 0.245\\nsamples = 547\\nvalue = [469, 78]\\nclass = NELCHINA'),\n",
       " Text(151.70625, 176.67000000000002, 'GR <= 25.752\\ngini = 0.145\\nsamples = 509\\nvalue = [469, 40]\\nclass = NELCHINA'),\n",
       " Text(62.775000000000006, 149.49, 'ITT <= 0.03\\ngini = 0.5\\nsamples = 33\\nvalue = [17, 16]\\nclass = NELCHINA'),\n",
       " Text(41.85, 122.31, 'gini = 0.0\\nsamples = 15\\nvalue = [0, 15]\\nclass = MATANUSKA'),\n",
       " Text(83.7, 122.31, 'RSOZ <= 0.001\\ngini = 0.105\\nsamples = 18\\nvalue = [17, 1]\\nclass = NELCHINA'),\n",
       " Text(62.775000000000006, 95.13, 'HDRA <= -0.003\\ngini = 0.245\\nsamples = 7\\nvalue = [6, 1]\\nclass = NELCHINA'),\n",
       " Text(41.85, 67.94999999999999, 'NPOR <= 0.228\\ngini = 0.5\\nsamples = 2\\nvalue = [1, 1]\\nclass = NELCHINA'),\n",
       " Text(20.925, 40.77000000000001, 'gini = 0.0\\nsamples = 1\\nvalue = [1, 0]\\nclass = NELCHINA'),\n",
       " Text(62.775000000000006, 40.77000000000001, 'gini = 0.0\\nsamples = 1\\nvalue = [0, 1]\\nclass = MATANUSKA'),\n",
       " Text(83.7, 67.94999999999999, 'gini = 0.0\\nsamples = 5\\nvalue = [5, 0]\\nclass = NELCHINA'),\n",
       " Text(104.625, 95.13, 'gini = 0.0\\nsamples = 11\\nvalue = [11, 0]\\nclass = NELCHINA'),\n",
       " Text(240.63750000000002, 149.49, 'HAZI <= 129.227\\ngini = 0.096\\nsamples = 476\\nvalue = [452, 24]\\nclass = NELCHINA'),\n",
       " Text(219.7125, 122.31, 'AHT20 <= 13.134\\ngini = 0.469\\nsamples = 64\\nvalue = [40, 24]\\nclass = NELCHINA'),\n",
       " Text(167.4, 95.13, 'AHT30 <= 10.528\\ngini = 0.287\\nsamples = 46\\nvalue = [38, 8]\\nclass = NELCHINA'),\n",
       " Text(125.55000000000001, 67.94999999999999, 'HMNO <= 8.632\\ngini = 0.108\\nsamples = 35\\nvalue = [33, 2]\\nclass = NELCHINA'),\n",
       " Text(104.625, 40.77000000000001, 'gini = 0.0\\nsamples = 31\\nvalue = [31, 0]\\nclass = NELCHINA'),\n",
       " Text(146.475, 40.77000000000001, 'ITT <= 0.035\\ngini = 0.5\\nsamples = 4\\nvalue = [2, 2]\\nclass = NELCHINA'),\n",
       " Text(125.55000000000001, 13.590000000000003, 'gini = 0.0\\nsamples = 2\\nvalue = [0, 2]\\nclass = MATANUSKA'),\n",
       " Text(167.4, 13.590000000000003, 'gini = 0.0\\nsamples = 2\\nvalue = [2, 0]\\nclass = NELCHINA'),\n",
       " Text(209.25, 67.94999999999999, 'HAZI <= 121.927\\ngini = 0.496\\nsamples = 11\\nvalue = [5, 6]\\nclass = MATANUSKA'),\n",
       " Text(188.32500000000002, 40.77000000000001, 'gini = 0.0\\nsamples = 6\\nvalue = [0, 6]\\nclass = MATANUSKA'),\n",
       " Text(230.175, 40.77000000000001, 'gini = 0.0\\nsamples = 5\\nvalue = [5, 0]\\nclass = NELCHINA'),\n",
       " Text(272.02500000000003, 95.13, 'DEPT <= 2569.637\\ngini = 0.198\\nsamples = 18\\nvalue = [2, 16]\\nclass = MATANUSKA'),\n",
       " Text(251.10000000000002, 67.94999999999999, 'gini = 0.0\\nsamples = 1\\nvalue = [1, 0]\\nclass = NELCHINA'),\n",
       " Text(292.95, 67.94999999999999, 'HCAL <= 6.239\\ngini = 0.111\\nsamples = 17\\nvalue = [1, 16]\\nclass = MATANUSKA'),\n",
       " Text(272.02500000000003, 40.77000000000001, 'gini = 0.0\\nsamples = 1\\nvalue = [1, 0]\\nclass = NELCHINA'),\n",
       " Text(313.875, 40.77000000000001, 'gini = 0.0\\nsamples = 16\\nvalue = [0, 16]\\nclass = MATANUSKA'),\n",
       " Text(261.5625, 122.31, 'gini = 0.0\\nsamples = 412\\nvalue = [412, 0]\\nclass = NELCHINA'),\n",
       " Text(193.55625, 176.67000000000002, 'gini = 0.0\\nsamples = 38\\nvalue = [0, 38]\\nclass = MATANUSKA')]"
      ]
     },
     "execution_count": 78,
     "metadata": {},
     "output_type": "execute_result"
    },
    {
     "data": {
      "image/png": "[encoded data removed]",
      "text/plain": [
       "<Figure size 432x288 with 1 Axes>"
      ]
     },
     "metadata": {
      "needs_background": "light"
     },
     "output_type": "display_data"
    }
   ],
   "source": [
    "tree.plot_tree(clf, feature_names=X.columns, filled=True, class_names=top_names.unique())"
   ]
  },
  {
   "cell_type": "code",
   "execution_count": null,
   "metadata": {},
   "outputs": [],
   "source": []
  }
 ],
 "metadata": {
  "kernelspec": {
   "display_name": "Python 3",
   "language": "python",
   "name": "python3"
  },
  "language_info": {
   "codemirror_mode": {
    "name": "ipython",
    "version": 3
   },
   "file_extension": ".py",
   "mimetype": "text/x-python",
   "name": "python",
   "nbconvert_exporter": "python",
   "pygments_lexer": "ipython3",
   "version": "3.8.5"
  }
 },
 "nbformat": 4,
 "nbformat_minor": 4
}
